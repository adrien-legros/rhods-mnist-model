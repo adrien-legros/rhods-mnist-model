{
 "cells": [
  {
   "cell_type": "markdown",
   "id": "b58d4a8e-0424-45ec-a968-9d66983cdb09",
   "metadata": {},
   "source": [
    "# Model Evaluation"
   ]
  },
  {
   "cell_type": "markdown",
   "id": "9ca8d3f1-a9d3-40ee-99c8-3ed2dd5bae81",
   "metadata": {},
   "source": [
    "Load packages"
   ]
  },
  {
   "cell_type": "code",
   "execution_count": null,
   "id": "18794cb8-7aba-4952-80d3-5deafa68f071",
   "metadata": {},
   "outputs": [],
   "source": [
    "import numpy as np\n",
    "import pandas as pd\n",
    "from matplotlib import pyplot as plt\n",
    "import tensorflow as tf\n",
    "import seaborn as sns"
   ]
  },
  {
   "cell_type": "code",
   "execution_count": null,
   "id": "49025eae-9e78-4e58-a237-111e7600b342",
   "metadata": {},
   "outputs": [],
   "source": [
    "from sklearn.metrics import confusion_matrix\n",
    "from keras import backend as K"
   ]
  },
  {
   "cell_type": "markdown",
   "id": "ba58ca29-f4d8-4c4b-baf0-bdfeb7518279",
   "metadata": {
    "tags": []
   },
   "source": [
    "Load Model"
   ]
  },
  {
   "cell_type": "code",
   "execution_count": null,
   "id": "2699d6a1-8144-448f-be69-775303f95e51",
   "metadata": {},
   "outputs": [],
   "source": [
    "model = tf.keras.models.load_model('/tmp/ml-pipeline/model/digit-recognition.keras')"
   ]
  },
  {
   "cell_type": "markdown",
   "id": "6352ed3f-a608-4364-a59b-047747564aed",
   "metadata": {},
   "source": [
    "Load data"
   ]
  },
  {
   "cell_type": "code",
   "execution_count": null,
   "id": "e5e14385-9f1a-47e1-9ab2-361106930e0c",
   "metadata": {},
   "outputs": [],
   "source": [
    "X_val = np.load('/tmp/ml-pipeline/data/X_val.npy')\n",
    "y_val = np.load('/tmp/ml-pipeline/data/y_val.npy')\n",
    "X_test = np.load('/tmp/ml-pipeline/data/X_test.npy')"
   ]
  },
  {
   "cell_type": "markdown",
   "id": "4049f2a3-8ad9-4670-a33b-724114474b10",
   "metadata": {},
   "source": [
    "Define metrics"
   ]
  },
  {
   "cell_type": "code",
   "execution_count": null,
   "id": "46d6996e-cbb0-4d56-a0e6-01e41a738bc7",
   "metadata": {},
   "outputs": [],
   "source": [
    "# Precision (using keras backend)\n",
    "def precision_metric(y_true, y_pred):\n",
    "    threshold = 0.5  # Training threshold 0.5\n",
    "    y_pred_y = K.cast(K.greater(K.clip(y_pred, 0, 1), threshold), K.floatx())\n",
    "\n",
    "    true_positives = K.sum(K.clip(y_true * y_pred, 0, 1))\n",
    "    false_negatives = K.sum(K.clip(y_true * (1-y_pred), 0, 1))\n",
    "    false_positives = K.sum(K.clip((1-y_true) * y_pred, 0, 1))\n",
    "    true_negatives = K.sum(K.clip((1 - y_true) * (1-y_pred), 0, 1))\n",
    "\n",
    "    precision = true_positives / (true_positives + false_positives + K.epsilon())\n",
    "    return precision\n",
    "\n",
    "# Recall (using keras backend)\n",
    "def recall_metric(y_true, y_pred):\n",
    "    threshold = 0.5 #Training threshold 0.5\n",
    "    y_pred = K.cast(K.greater(K.clip(y_pred, 0, 1), threshold), K.floatx())\n",
    "\n",
    "    true_positives = K.sum(K.clip(y_true * y_pred, 0, 1))\n",
    "    false_negatives = K.sum(K.clip(y_true * (1-y_pred), 0, 1))\n",
    "    false_positives = K.sum(K.clip((1-y_true) * y_pred, 0, 1))\n",
    "    true_negatives = K.sum(K.clip((1 - y_true) * (1-y_pred), 0, 1))\n",
    "\n",
    "    recall = true_positives / (true_positives + false_negatives + K.epsilon())\n",
    "    return recall\n",
    "\n",
    "# F1-score (using keras backend)\n",
    "def f1_metric(y_true, y_pred):\n",
    "    precision = precision_metric(y_true, y_pred)\n",
    "    recall = recall_metric(y_true, y_pred)\n",
    "    f1 = 2 * ((precision * recall) / (recall+precision+K.epsilon()))\n",
    "    return f1\n"
   ]
  },
  {
   "cell_type": "markdown",
   "id": "408313b9-6804-46cc-9696-ff7b188ee79f",
   "metadata": {},
   "source": [
    "Predict"
   ]
  },
  {
   "cell_type": "code",
   "execution_count": null,
   "id": "3f765500-d899-49f3-bd67-425c78123d95",
   "metadata": {},
   "outputs": [],
   "source": [
    "y_val_pred = np.argmax(model.predict(X_val), axis=1)\n",
    "y_val_pred"
   ]
  },
  {
   "cell_type": "code",
   "execution_count": null,
   "id": "f34e14a0-05b7-419e-95b2-114d98a7b267",
   "metadata": {},
   "outputs": [],
   "source": [
    "y_val_true = np.argmax(y_val,axis=1)\n",
    "y_val_true"
   ]
  },
  {
   "cell_type": "markdown",
   "id": "be0ad3da-40b5-43c8-8ab2-4f08946b49dd",
   "metadata": {},
   "source": [
    "Confusion matrix"
   ]
  },
  {
   "cell_type": "code",
   "execution_count": null,
   "id": "5935f95b-0bc0-4e70-a5d1-6f394ebe88c2",
   "metadata": {},
   "outputs": [],
   "source": [
    "cm = confusion_matrix(np.argmax(y_val,axis=1), y_val_pred)"
   ]
  },
  {
   "cell_type": "code",
   "execution_count": null,
   "id": "fbdb36ce-4338-4b82-a8c0-919d5a5dda96",
   "metadata": {},
   "outputs": [],
   "source": [
    "sns.heatmap(cm, annot=True, cmap='Blues', fmt='g')\n",
    "plt.title('Confusion matrix')\n",
    "plt.xlabel('Pred')\n",
    "plt.ylabel('True')"
   ]
  },
  {
   "cell_type": "markdown",
   "id": "3cecf9f7-82a2-4056-a66e-11bc76280d38",
   "metadata": {},
   "source": [
    "Compile metrics and define artifacts"
   ]
  },
  {
   "cell_type": "code",
   "execution_count": null,
   "id": "151b90aa-f42a-44a6-b27a-9e0a236cc1af",
   "metadata": {},
   "outputs": [],
   "source": [
    "from sklearn.metrics import accuracy_score, f1_score, precision_score, recall_score\n",
    "acc = accuracy_score(y_val_true, y_val_pred)\n",
    "f1_macro = f1_score(y_val_true, y_val_pred, average=\"macro\")\n",
    "rec = recall_score(y_val_true, y_val_pred, average=\"macro\")\n",
    "prec = precision_score(y_val_true, y_val_pred, average=\"macro\")\n",
    "print(f'accuracy_score: {acc}')\n",
    "print(f'f1_score_macro: {f1_macro}')\n",
    "print(f'precision_score: {prec}')\n",
    "print(f'recall_score: {rec}')"
   ]
  },
  {
   "cell_type": "code",
   "execution_count": null,
   "id": "e5416133-c679-4715-9f5a-9f522d707735",
   "metadata": {},
   "outputs": [],
   "source": [
    "import json\n",
    "\n",
    "metadata = {\n",
    "    'metrics': [\n",
    "        {\n",
    "            'name': 'accuracy-score',\n",
    "            'numberValue':  acc,\n",
    "            'format': 'PERCENTAGE'\n",
    "        },\n",
    "        {\n",
    "            'name': 'f1-score',\n",
    "            'numberValue':  f1_macro,\n",
    "            'format': 'PERCENTAGE'\n",
    "        },\n",
    "        {\n",
    "            'name': 'precision-score',\n",
    "            'numberValue':  prec,\n",
    "            'format': 'PERCENTAGE'\n",
    "        },\n",
    "        {\n",
    "            'name': 'recall-score',\n",
    "            'numberValue':  rec,\n",
    "            'format': 'PERCENTAGE'\n",
    "        }\n",
    "    ]\n",
    "}\n",
    "with open('./mlpipeline-metrics.json', 'w') as f:\n",
    "    json.dump(metadata, f)"
   ]
  },
  {
   "cell_type": "markdown",
   "id": "fd9d7afd-1384-4b5f-a705-f4cf9efb2706",
   "metadata": {},
   "source": [
    "> <div class=\"alert alert-block alert-info\">\n",
    "<b>Ok, not bad for our first model! The model has done a pretty good job at classifying each class and is obtaining a high accuracy score. Now we should take a look at the examples the model is misclassifying.</b>\n",
    "</div>"
   ]
  },
  {
   "cell_type": "code",
   "execution_count": null,
   "id": "3057771f-d215-4e3f-b602-da17df6cfc6b",
   "metadata": {},
   "outputs": [],
   "source": [
    "y_test_pred = model.predict(X_test)\n",
    "y_test_pred = np.argmax(y_test_pred,axis=1)\n",
    "test_results = pd.DataFrame({'ImageID': np.arange(1,28001,1), 'Label': y_test_pred})"
   ]
  },
  {
   "cell_type": "code",
   "execution_count": null,
   "id": "d9fc9c92-740c-4090-9e84-92c5b21250df",
   "metadata": {},
   "outputs": [],
   "source": []
  }
 ],
 "metadata": {
  "kernelspec": {
   "display_name": "Python 3.9",
   "language": "python",
   "name": "python3"
  },
  "language_info": {
   "codemirror_mode": {
    "name": "ipython",
    "version": 3
   },
   "file_extension": ".py",
   "mimetype": "text/x-python",
   "name": "python",
   "nbconvert_exporter": "python",
   "pygments_lexer": "ipython3",
   "version": "3.9.16"
  }
 },
 "nbformat": 4,
 "nbformat_minor": 5
}
