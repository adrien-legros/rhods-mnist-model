{
 "cells": [
  {
   "cell_type": "markdown",
   "id": "96c547b7-d6f3-4658-8bc5-088954b0ffcb",
   "metadata": {
    "tags": []
   },
   "source": [
    "# 2. Data preparation and pre-processing"
   ]
  },
  {
   "cell_type": "markdown",
   "id": "93cd468d-4dc4-47c6-9f7b-3bc18c1f9f6c",
   "metadata": {
    "tags": []
   },
   "source": [
    "### 2.0 Imports"
   ]
  },
  {
   "cell_type": "code",
   "execution_count": null,
   "id": "761aedb7-ac3e-4b4c-a17e-d3d1e70008bf",
   "metadata": {},
   "outputs": [],
   "source": [
    "import numpy as np\n",
    "import pandas as pd\n",
    "from matplotlib import pyplot as plt\n",
    "import tensorflow as tf\n",
    "from tensorflow import keras\n",
    "import seaborn as sns"
   ]
  },
  {
   "cell_type": "code",
   "execution_count": null,
   "id": "fc7c24e7-e47a-4b46-9b24-7515ead4e94f",
   "metadata": {},
   "outputs": [],
   "source": [
    "import boto3\n",
    "from boto3 import session\n",
    "import os\n",
    "\n",
    "key_id = os.environ.get(\"AWS_ACCESS_KEY_ID\")\n",
    "secret_key = os.environ.get(\"AWS_SECRET_ACCESS_KEY\")\n",
    "bucket_name = os.environ.get(\"AWS_S3_BUCKET\")\n",
    "s3_endpoint = os.environ.get(\"AWS_S3_ENDPOINT\")\n",
    "\n",
    "s3_client = boto3.client(\"s3\", aws_access_key_id=key_id, aws_secret_access_key=secret_key, endpoint_url=s3_endpoint)"
   ]
  },
  {
   "cell_type": "markdown",
   "id": "ef78bc53-7052-4860-a72e-07461575d8b8",
   "metadata": {},
   "source": [
    "### 2.1 Loading data"
   ]
  },
  {
   "cell_type": "code",
   "execution_count": null,
   "id": "95e26d32-f1fe-4798-9114-93db9bd07c4b",
   "metadata": {},
   "outputs": [],
   "source": [
    "\n",
    "s3_client.download_file(bucket_name, \"data/train.csv\", '/tmp/train.csv')\n",
    "s3_client.download_file(bucket_name, \"data/test.csv\", '/tmp/test.csv')"
   ]
  },
  {
   "cell_type": "code",
   "execution_count": null,
   "id": "087d8586-d436-46d4-90b7-2d68d8846745",
   "metadata": {},
   "outputs": [],
   "source": [
    "df_train = pd.read_csv('/tmp/train.csv')\n",
    "df_train"
   ]
  },
  {
   "cell_type": "code",
   "execution_count": null,
   "id": "10ae8cbd-b42c-47c1-af09-130dd65a2091",
   "metadata": {
    "scrolled": true
   },
   "outputs": [],
   "source": [
    "df_test = pd.read_csv('/tmp/test.csv')\n",
    "df_test"
   ]
  },
  {
   "cell_type": "markdown",
   "id": "8ccd69fb-c978-4518-b4bf-50734ef4df58",
   "metadata": {},
   "source": [
    "### 2.2 Checking for missing values"
   ]
  },
  {
   "cell_type": "code",
   "execution_count": null,
   "id": "e41b340a-b42f-4a50-be58-ddbe9ce936b3",
   "metadata": {},
   "outputs": [],
   "source": [
    "df_train.isna().any().describe()"
   ]
  },
  {
   "cell_type": "code",
   "execution_count": null,
   "id": "40d22569-9653-42c5-ae48-d7e9ddc0a192",
   "metadata": {},
   "outputs": [],
   "source": [
    "df_test.isna().any().describe()"
   ]
  },
  {
   "cell_type": "code",
   "execution_count": null,
   "id": "6eb959d0-5524-4a94-bc4c-a2943f05a45f",
   "metadata": {},
   "outputs": [],
   "source": [
    "df_train.info()"
   ]
  },
  {
   "cell_type": "code",
   "execution_count": null,
   "id": "b4f82b10-290e-4252-929d-0aac0b75d2d2",
   "metadata": {},
   "outputs": [],
   "source": [
    "X = df_train.iloc[:,1:]\n",
    "y = df_train.iloc[:, 0]\n",
    "print(X.shape, y.shape)"
   ]
  },
  {
   "cell_type": "markdown",
   "id": "47c7db58-4e20-4387-9967-d4de3546a73a",
   "metadata": {},
   "source": [
    "> <div class=\"alert alert-block alert-info\">\n",
    "    <b>No missing data, let's continue.</b></div>\n"
   ]
  },
  {
   "cell_type": "markdown",
   "id": "83d04ef7-c28a-4948-a1e0-d04e1eb6834c",
   "metadata": {},
   "source": [
    "### 2.3 Data and target class visualizations"
   ]
  },
  {
   "cell_type": "code",
   "execution_count": null,
   "id": "6fcfe500-96b8-4ca3-bd90-846f3b5a6c83",
   "metadata": {},
   "outputs": [],
   "source": [
    "sns.barplot(x=y.value_counts().index, y=y.value_counts().values)"
   ]
  },
  {
   "cell_type": "markdown",
   "id": "bd4f02b4-c1aa-450f-8890-a4bf96da69ed",
   "metadata": {},
   "source": [
    "> <div class=\"alert alert-block alert-info\">\n",
    "    <b>As you can see, there is a fairly even class distribution.</b></div>"
   ]
  },
  {
   "cell_type": "code",
   "execution_count": null,
   "id": "ecbb8fed-9bc5-4730-ab2d-aeaccae46bbf",
   "metadata": {},
   "outputs": [],
   "source": [
    "z = np.reshape(X.iloc[8].values, (28,28))\n",
    "print(z.shape)\n",
    "plt.imshow(z, cmap='Greys')"
   ]
  },
  {
   "cell_type": "markdown",
   "id": "2e5f3b83-0be9-4fbb-bd1c-98d6d4d92755",
   "metadata": {},
   "source": [
    "> <div class=\"alert alert-block alert-info\">\n",
    "    <b>Here is an example of one of the digits. It is a 28 x 28 black and white image.</b></div>"
   ]
  },
  {
   "cell_type": "markdown",
   "id": "8426ee9c-7029-40ce-8834-cd5905bc4ae6",
   "metadata": {},
   "source": [
    "### 2.4 Creating training and validation sets"
   ]
  },
  {
   "cell_type": "code",
   "execution_count": null,
   "id": "4c87acab-a573-4579-8d18-d546aa296212",
   "metadata": {},
   "outputs": [],
   "source": [
    "from sklearn.model_selection import train_test_split"
   ]
  },
  {
   "cell_type": "code",
   "execution_count": null,
   "id": "a6c1ea63-fe87-47a4-89e5-1c928725d904",
   "metadata": {},
   "outputs": [],
   "source": [
    "X_train, X_val, y_train, y_val = train_test_split(X, y, test_size=0.1, random_state=15)\n",
    "print(X_train.shape, X_val.shape, y_train.shape, y_val.shape)"
   ]
  },
  {
   "cell_type": "markdown",
   "id": "007a4fae-d376-48b6-9231-d2c3cf6e44b8",
   "metadata": {},
   "source": [
    "> <div class=\"alert alert-block alert-info\">\n",
    "<b>We now need to split the training data into two sets; training and validation. We will train on 90% of the data, and use the remaining 10% to evaluate the model during training.</b></div>"
   ]
  },
  {
   "cell_type": "markdown",
   "id": "0f5671f2-5c43-4ac3-a085-c7544de96bf9",
   "metadata": {},
   "source": [
    "### 2.5 Pre-processing pipelines"
   ]
  },
  {
   "cell_type": "code",
   "execution_count": null,
   "id": "62902d60-98a3-4a23-8d82-1bac421cc694",
   "metadata": {},
   "outputs": [],
   "source": [
    "from sklearn.pipeline import Pipeline\n",
    "from sklearn.compose import ColumnTransformer\n",
    "from sklearn.preprocessing import StandardScaler, MinMaxScaler"
   ]
  },
  {
   "cell_type": "code",
   "execution_count": null,
   "id": "9f9e75d0-f4ed-407c-95f7-df5b9ec30c79",
   "metadata": {},
   "outputs": [],
   "source": [
    "from sklearn.base import BaseEstimator, TransformerMixin"
   ]
  },
  {
   "cell_type": "code",
   "execution_count": null,
   "id": "eb2abfe7-ef39-4ef8-b8d5-933ad4aa5f64",
   "metadata": {},
   "outputs": [],
   "source": [
    "class ReshapeFunc(BaseEstimator, TransformerMixin):\n",
    "    def __init__(self):\n",
    "        pass\n",
    "    def fit(self, X, y=None):\n",
    "        return self\n",
    "    def transform(self, X, y=None):\n",
    "        X = X.reshape((-1,28,28,1))\n",
    "        return X"
   ]
  },
  {
   "cell_type": "markdown",
   "id": "84767a3e-4727-4347-baed-b7a9d5e2968f",
   "metadata": {},
   "source": [
    "> <div class=\"alert alert-block alert-info\">\n",
    "<b>Custom transformer was created to add a channel dimension to the input (X) data. As the image is black and white we only have 1 channel. In the case of a coloured image we would require 3 channels (red blue green).</b></div>"
   ]
  },
  {
   "cell_type": "code",
   "execution_count": null,
   "id": "7fe65594-cb29-430e-ade6-a22c1fdc6e72",
   "metadata": {},
   "outputs": [],
   "source": [
    "features_pipeline = Pipeline(steps=[\n",
    "    ('Normalize', MinMaxScaler()),\n",
    "    ('Reshape', ReshapeFunc())\n",
    "])"
   ]
  },
  {
   "cell_type": "markdown",
   "id": "34269ffe-47b2-4eb8-84b2-0d9836b7c89e",
   "metadata": {},
   "source": [
    "> <div class=\"alert alert-block alert-info\">\n",
    "    <b>Feature pipeline. Data is scaled between 0 and 1 and then reshaped into input format.</b></div>"
   ]
  },
  {
   "cell_type": "code",
   "execution_count": null,
   "id": "a7831cd2-4435-48a8-a5f4-23794b3f1d86",
   "metadata": {},
   "outputs": [],
   "source": [
    "X_train = features_pipeline.fit_transform(X_train)"
   ]
  },
  {
   "cell_type": "code",
   "execution_count": null,
   "id": "dea8a904-1048-4ad2-8305-89137e951984",
   "metadata": {},
   "outputs": [],
   "source": [
    "from sklearn.preprocessing import OneHotEncoder\n",
    "target_pipeline = Pipeline(steps=[\n",
    "    ('OneHot', OneHotEncoder())\n",
    "])"
   ]
  },
  {
   "cell_type": "markdown",
   "id": "9b1b75b5-c875-4f14-b119-ea7de49d8754",
   "metadata": {},
   "source": [
    "> <div class=\"alert alert-block alert-info\">\n",
    "<b>Target pipeline. One hot encoding is used, as we will be using a softmax activation function in the output node.</b></div>"
   ]
  },
  {
   "cell_type": "code",
   "execution_count": null,
   "id": "cdaf7c27-2ec1-42c4-a735-eeee0e5ba573",
   "metadata": {},
   "outputs": [],
   "source": [
    "y_train = target_pipeline.fit_transform(y_train.values.reshape(-1,1))"
   ]
  },
  {
   "cell_type": "code",
   "execution_count": null,
   "id": "b6de1359-9f4b-4e12-915e-8197e3cdc136",
   "metadata": {
    "scrolled": true
   },
   "outputs": [],
   "source": [
    "y_train = y_train.toarray()"
   ]
  },
  {
   "cell_type": "code",
   "execution_count": null,
   "id": "52204922-8800-4854-8edd-cac1d3be378b",
   "metadata": {},
   "outputs": [],
   "source": [
    "print(X_train.shape, y_train.shape)"
   ]
  },
  {
   "cell_type": "markdown",
   "id": "321aa357-feec-496b-8e55-60cc57443668",
   "metadata": {},
   "source": [
    "> <div class=\"alert alert-block alert-info\">\n",
    "    <b>Don't forget to apply the preprocessing pipeline to the validation data!</b></div>"
   ]
  },
  {
   "cell_type": "code",
   "execution_count": null,
   "id": "0d44e771-ee53-45ff-aa72-4c6704bdfad2",
   "metadata": {},
   "outputs": [],
   "source": [
    "X_val = features_pipeline.fit_transform(X_val)"
   ]
  },
  {
   "cell_type": "code",
   "execution_count": null,
   "id": "9a543144-5325-4c74-a306-5446249abc22",
   "metadata": {},
   "outputs": [],
   "source": [
    "y_val = target_pipeline.fit_transform(y_val.values.reshape(-1, 1))"
   ]
  },
  {
   "cell_type": "code",
   "execution_count": null,
   "id": "7a83f7b2-e7ba-447a-89b2-7c9c73d7f5cf",
   "metadata": {},
   "outputs": [],
   "source": [
    "y_val = y_val.toarray()"
   ]
  },
  {
   "cell_type": "code",
   "execution_count": null,
   "id": "48dcf9f9-e146-4097-b351-65cce9c01180",
   "metadata": {},
   "outputs": [],
   "source": [
    "print(X_val.shape, y_val.shape)"
   ]
  },
  {
   "cell_type": "markdown",
   "id": "df425183-bb4a-4cd4-8ef5-61cc1cc07f88",
   "metadata": {},
   "source": [
    "> <div class=\"alert alert-block alert-info\">\n",
    "    <b>and test data..</b></div>"
   ]
  },
  {
   "cell_type": "code",
   "execution_count": null,
   "id": "c27689e1-4b07-4653-b862-e704b4a20657",
   "metadata": {},
   "outputs": [],
   "source": [
    "X_test = features_pipeline.fit_transform(df_test)"
   ]
  },
  {
   "cell_type": "markdown",
   "id": "9f397d34-80b0-453b-a4ec-bd5be6c7ac41",
   "metadata": {
    "tags": []
   },
   "source": [
    "### 2.6 Export data"
   ]
  },
  {
   "cell_type": "code",
   "execution_count": null,
   "id": "4f1588e8-3421-4b0b-b4d3-a11239c45c11",
   "metadata": {},
   "outputs": [],
   "source": [
    "os.makedirs('/tmp/ml-pipeline/data/', exist_ok=True)"
   ]
  },
  {
   "cell_type": "code",
   "execution_count": null,
   "id": "5e796b4d-052c-4613-b27c-6cdaa65975d0",
   "metadata": {},
   "outputs": [],
   "source": [
    "np.save('/tmp/ml-pipeline/data/X_train.npy', X_train)\n",
    "np.save('/tmp/ml-pipeline/data/y_train.npy', y_train)\n",
    "np.save('/tmp/ml-pipeline/data/X_val.npy', X_val)\n",
    "np.save('/tmp/ml-pipeline/data/y_val.npy', y_val)\n",
    "np.save('/tmp/ml-pipeline/data/X_test.npy', X_test)"
   ]
  },
  {
   "cell_type": "code",
   "execution_count": null,
   "id": "0a6ac72e-d9a9-4329-896e-4d2dd79c8514",
   "metadata": {},
   "outputs": [],
   "source": []
  }
 ],
 "metadata": {
  "kernelspec": {
   "display_name": "Python 3.9",
   "language": "python",
   "name": "python3"
  },
  "language_info": {
   "codemirror_mode": {
    "name": "ipython",
    "version": 3
   },
   "file_extension": ".py",
   "mimetype": "text/x-python",
   "name": "python",
   "nbconvert_exporter": "python",
   "pygments_lexer": "ipython3",
   "version": "3.9.16"
  }
 },
 "nbformat": 4,
 "nbformat_minor": 5
}
